{
 "cells": [
  {
   "cell_type": "markdown",
   "id": "03a58942",
   "metadata": {},
   "source": [
    "# California Housing Price Predictor (1990)"
   ]
  },
  {
   "cell_type": "markdown",
   "id": "344d372b",
   "metadata": {},
   "source": [
    "## The Problem"
   ]
  },
  {
   "cell_type": "code",
   "execution_count": 1,
   "id": "20829839",
   "metadata": {},
   "outputs": [],
   "source": [
    "# This model's output (prediction of each district's median housing price) will be fed to another model that\n",
    "# determines whether it is worth investing in property in a given area of California"
   ]
  },
  {
   "cell_type": "markdown",
   "id": "48268ee5",
   "metadata": {},
   "source": [
    "## Model"
   ]
  },
  {
   "cell_type": "code",
   "execution_count": 2,
   "id": "c6c663c5",
   "metadata": {},
   "outputs": [],
   "source": [
    "# We will be running a Multiple Regression algorithm using batch learning because:\n",
    "    # The model is labeled (supervised learning)\n",
    "    # The system uses multiple features to make predictions (district population, median income, etc)\n",
    "    # Univariate, since we are only looking to find a single value for each district (median income)\n",
    "    # Batch learning because there is no flow of data continuously pumping into the system"
   ]
  },
  {
   "cell_type": "markdown",
   "id": "9624fc2c",
   "metadata": {},
   "source": [
    "### Performance Measure"
   ]
  },
  {
   "cell_type": "code",
   "execution_count": 3,
   "id": "7213eaca",
   "metadata": {},
   "outputs": [],
   "source": [
    "# Typical performance measure for regression problems is Root Mean Square Error (RMSE)\n",
    "# This is used to give an idea to how much error the system makes in its predictions, with higher weight given to large errors"
   ]
  },
  {
   "cell_type": "markdown",
   "id": "c359e712",
   "metadata": {},
   "source": [
    "$$ \\text{RMSE}(\\mathbf{X},h) = \\sqrt{\\frac{1}{m} \\sum_{i=1}^{m} (h(x^i) - \\hat{y}^i)^2} $$"
   ]
  },
  {
   "cell_type": "markdown",
   "id": "7a8990d1",
   "metadata": {},
   "source": [
    "#### $x^i$ = vector of all feature values of the i<sup>th</sup> instance\n",
    "#### $m$ = number of instances in the dataset\n",
    "#### $y^i$ = label (desired output for the i<sup>th</sup> instance\n",
    "#### **X** = matrix containing all the feature values\n",
    "#### $h$ = prediction function (hypothesis)\n",
    "#### $ \\text{RMSE}(\\mathbf{X},h) $ = cost function measured on set of examples using hypothesis $h$"
   ]
  },
  {
   "cell_type": "code",
   "execution_count": 4,
   "id": "c21781d0",
   "metadata": {},
   "outputs": [],
   "source": [
    "# When outliers are more prevalent, use Mean Absolute Error (MAE) over RMSE. RMSE is more sensitive to outliers"
   ]
  },
  {
   "cell_type": "code",
   "execution_count": null,
   "id": "7046f233",
   "metadata": {},
   "outputs": [],
   "source": []
  }
 ],
 "metadata": {
  "kernelspec": {
   "display_name": "Python 3 (ipykernel)",
   "language": "python",
   "name": "python3"
  },
  "language_info": {
   "codemirror_mode": {
    "name": "ipython",
    "version": 3
   },
   "file_extension": ".py",
   "mimetype": "text/x-python",
   "name": "python",
   "nbconvert_exporter": "python",
   "pygments_lexer": "ipython3",
   "version": "3.9.13"
  }
 },
 "nbformat": 4,
 "nbformat_minor": 5
}
