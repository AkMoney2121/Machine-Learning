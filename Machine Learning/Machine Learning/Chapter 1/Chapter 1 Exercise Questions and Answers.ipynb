{
 "cells": [
  {
   "cell_type": "markdown",
   "id": "80e34728",
   "metadata": {},
   "source": [
    "# CHAPTER 1 EXERCISE QUESTIONS"
   ]
  },
  {
   "cell_type": "code",
   "execution_count": 1,
   "id": "cd6a817b",
   "metadata": {},
   "outputs": [],
   "source": [
    "# 1) How would you define Machine Learning?\n",
    "    # Machine Learning is the science of programming computers so that they can learn from data"
   ]
  },
  {
   "cell_type": "code",
   "execution_count": 2,
   "id": "acf8c345",
   "metadata": {},
   "outputs": [],
   "source": [
    "#2) Can you name 4 types of applications where machine learning shines?\n",
    "    # - Problems where solutions require lots of fine-tuning (Machine learning models often simplify code and perform more efficiently)\n",
    "    # - Complicated problems where traditional approaches yield poor solutions\n",
    "    # - Fluctuating environments (Machine Learning systems can easily be retrained on new data, always keeping it up to date)\n",
    "    # - Gathering insights about complex problems and large amounts of data\n",
    "        "
   ]
  },
  {
   "cell_type": "code",
   "execution_count": 3,
   "id": "2417cefa",
   "metadata": {},
   "outputs": [],
   "source": [
    "#3) What is a labeled training set?\n",
    "    # A labeled training set is a set of data that includes the desired solutions (labels) that you feed to an algorithm\n",
    "            # Used in supervised machine learning\n",
    "    "
   ]
  },
  {
   "cell_type": "code",
   "execution_count": 4,
   "id": "4f2ecd04",
   "metadata": {},
   "outputs": [],
   "source": [
    "#4) What are the 2 most common supervised tasks?\n",
    "    # Classification: Learn how to classify data into different labels\n",
    "    # Regression: Predict a target numeric value (Dep Variable) given a set of features (Ind Variables)"
   ]
  },
  {
   "cell_type": "code",
   "execution_count": 5,
   "id": "fc073d45",
   "metadata": {},
   "outputs": [],
   "source": [
    "#5) What are 4 common unsupervised tasks? (No labels for data)\n",
    "    # Clustering: Detect groups of similar datapoints\n",
    "    # visualization: Feed unlabeled data -> output a 2D or 3D representation of the data that can be plotted\n",
    "    # Dimensionality Reduction: Simplify the data without losing too much information\n",
    "    # Anomoly Detection: Shown mostly normal instances during training to recognize normal occurrences. \n",
    "        # Then, the system can see new instances and determine if it looks like a normal instance, or an anomoly\n",
    "    "
   ]
  },
  {
   "cell_type": "code",
   "execution_count": 6,
   "id": "fc1ddf09",
   "metadata": {},
   "outputs": [],
   "source": [
    "#6) What type of algorithm would you use to allow a robot to walk in various unknown terrains?\n",
    "    # Reinforcement Learning algorithm. Provide the robot feedback when it stumbles into obstacles"
   ]
  },
  {
   "cell_type": "code",
   "execution_count": 7,
   "id": "f8e60df4",
   "metadata": {},
   "outputs": [],
   "source": [
    "#7) What type of algorithm would you use to segment your customers into multiple groups?\n",
    "    # If you DON'T know what groups to categorize them into -> Unsupervised learning (Clustering algorithm)\n",
    "    # If you DO know what groups to categorize them into -> Supervised learning (Classification algorithm)"
   ]
  },
  {
   "cell_type": "code",
   "execution_count": 8,
   "id": "59ee7c7d",
   "metadata": {},
   "outputs": [],
   "source": [
    "#8) Is spam detection a supervised or unsupervised learning problem?\n",
    "    # Supervised -> Algorithm is fed many emails with 2 labels (Spam or Not Spam)"
   ]
  },
  {
   "cell_type": "code",
   "execution_count": 9,
   "id": "9e7b407a",
   "metadata": {},
   "outputs": [],
   "source": [
    "#9) What is an online learning system?\n",
    "    # Online learning systems learn incrementally, and adapt to changing data and training on large quantities of data"
   ]
  },
  {
   "cell_type": "code",
   "execution_count": 10,
   "id": "de1165e3",
   "metadata": {},
   "outputs": [],
   "source": [
    "#10) What is out-of-core learning?\n",
    "    # Out-of-core algorithms handle lots of data that cannot fit inside the computer's main memory.\n",
    "        # Segment the data into mini-batches and uses online learning techniques to learn from these mini-batches"
   ]
  },
  {
   "cell_type": "code",
   "execution_count": 11,
   "id": "41d02df0",
   "metadata": {},
   "outputs": [],
   "source": [
    "#11) What algorithm relies on a similarity measure to make predictions?\n",
    "    # Instance-based algorithms learn the training data by heart \n",
    "        # then use similarity measures on new data to find most similar instances and use them to make predictions"
   ]
  },
  {
   "cell_type": "code",
   "execution_count": 12,
   "id": "9f3c7b1c",
   "metadata": {},
   "outputs": [],
   "source": [
    "#12) What is the difference between a model parameter and a model hyperparameter?\n",
    "    # Parameter: Models have one or more parameters to determine what it will predict given a new instance\n",
    "        # Ex) slope of a line\n",
    "        # Algorithms try to find optimal values for parameters so the model generalizes well to new instances\n",
    "    # Hyperparameter: Parameter of the algorithm itself (NOT the model)\n",
    "        # Ex) The amount of regularization (Reducing overfitting) to apply"
   ]
  },
  {
   "cell_type": "code",
   "execution_count": 13,
   "id": "c1ec9a45",
   "metadata": {},
   "outputs": [],
   "source": [
    "#13) What do Model-Based algorithms search for? What is the most common strategy they use to succeed? How do they make predictions?\n",
    "    # Model-Based algorithms search for optimal values of model parameters so the model generalizes well to new instances\n",
    "    # Train systems by minimizing a cost function that measures how poor a system is at making predictions on training data\n",
    "        # Penalty for model complexity if the model is regularized\n",
    "    # To make predictions, feed new instance's features into the model prediction function, using the model parameter values found by the learning algorithm"
   ]
  },
  {
   "cell_type": "code",
   "execution_count": 14,
   "id": "b40b49ee",
   "metadata": {},
   "outputs": [],
   "source": [
    "#14) What are the 4 main challenges in machine learning?\n",
    "    # Lack of data\n",
    "    # Poor data quality\n",
    "    # Non-representative data (Noise/Outliers)\n",
    "    # Uninformative features (Labels that don't do anything for the algorithm)\n",
    "    # Excessively simple models that Underfit the data (Model is oo simple, doesn't show any relationships during training)\n",
    "    # Excessively complex models that Overfit the data (Too accurate during training -> inaccurate for new instances)"
   ]
  },
  {
   "cell_type": "code",
   "execution_count": 15,
   "id": "0957006a",
   "metadata": {},
   "outputs": [],
   "source": [
    "#15) If the model performs well on training data, but generalizes poorly to new instances, what is happening? Name 3 possible solutions\n",
    "     # Model is overfitting the data. It is too complex and is generalizing very well to training data, but not to new instances\n",
    "     # Solutions are:\n",
    "        # Get more data\n",
    "        # Simplify the model (simpler algorithm, reduce parameters/features, regularize the model, reduce noise in training data)\n",
    "        "
   ]
  },
  {
   "cell_type": "code",
   "execution_count": 16,
   "id": "2eac258c",
   "metadata": {},
   "outputs": [],
   "source": [
    "#16) What is a test set and why do we use it\n",
    "    # Test sets are samples of data that we run models on before launching the model into production\n",
    "    # They're used to estimate the generalization error that a model will make on new instances before the model is launched"
   ]
  },
  {
   "cell_type": "code",
   "execution_count": 17,
   "id": "e7086ba0",
   "metadata": {},
   "outputs": [],
   "source": [
    "#17) What is the purpose of a validation set?\n",
    "    # Validation sets are used to compare models. Then, you can select the best model and tune the algorithm's hyperparameters"
   ]
  },
  {
   "cell_type": "code",
   "execution_count": 18,
   "id": "365e1fee",
   "metadata": {},
   "outputs": [],
   "source": [
    "#18) What is the train-dev set? When do you need it? and How do you use it?\n",
    "    # Train-dev set is used when there is a risk of mismatch between the training data, validation data, and test data.\n",
    "    # Train-dev set is part of the training set that is held out (not trained on)\n",
    "    # The model is trained on the training set, then validated using the train-dev set and validation set\n",
    "    \n",
    "    # If model performs well on training set, but not train-dev set, model is probably overfitting the training data\n",
    "    # If model performs well on training and train dev sets, but not on validation set, probably data mismatch between training data, and validation/test data\n",
    "        # Should then improve training data to make it look more like validation/test data"
   ]
  },
  {
   "cell_type": "code",
   "execution_count": null,
   "id": "790f709a",
   "metadata": {},
   "outputs": [],
   "source": [
    "#19) What can go wrong if you tune hyperparameters using the test set?\n",
    "    # Risk overfitting the test set's data. (Model will perform well on test set, but could perform poorly with new instances)"
   ]
  }
 ],
 "metadata": {
  "kernelspec": {
   "display_name": "Python 3 (ipykernel)",
   "language": "python",
   "name": "python3"
  },
  "language_info": {
   "codemirror_mode": {
    "name": "ipython",
    "version": 3
   },
   "file_extension": ".py",
   "mimetype": "text/x-python",
   "name": "python",
   "nbconvert_exporter": "python",
   "pygments_lexer": "ipython3",
   "version": "3.9.13"
  }
 },
 "nbformat": 4,
 "nbformat_minor": 5
}
